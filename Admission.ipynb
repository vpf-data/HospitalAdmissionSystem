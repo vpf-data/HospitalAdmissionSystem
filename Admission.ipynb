{
 "cells": [
  {
   "cell_type": "markdown",
   "id": "a39c93c2-7b39-4887-a3a9-7a5bd303c2ab",
   "metadata": {},
   "source": [
    "# Polymorphsim"
   ]
  },
  {
   "cell_type": "code",
   "execution_count": 129,
   "id": "791758ce-fdbe-4f00-80ae-8dabfcee594d",
   "metadata": {},
   "outputs": [],
   "source": [
    "class Patient:\n",
    "    def __init__(self,patient_id,name,age):\n",
    "        self.patient_id = patient_id\n",
    "        self.name=name\n",
    "        self.age=age\n",
    "\n",
    "    def show_info():\n",
    "        return f\"Patient[{self.patient_id}]-{self.name},Age:{self.age}\""
   ]
  },
  {
   "cell_type": "code",
   "execution_count": 135,
   "id": "db17a57f-44e9-4d51-ad68-6614e480ecb1",
   "metadata": {},
   "outputs": [],
   "source": [
    "class Inpatient(Patient):\n",
    "    def __init__(self,patient_id,name,age,room_no):\n",
    "        super().__init__(patient_id,name,age)\n",
    "        self.room_no=room_no\n",
    "        \n",
    "    #method overrriding\n",
    "    def show_info(self):\n",
    "        return f\"Patient[{self.patient_id}]-{self.name},Age:{self.age},Room:{self.room_no}\"\n",
    "        "
   ]
  },
  {
   "cell_type": "code",
   "execution_count": 141,
   "id": "a8331a1d-590a-4120-abdd-c1f08490e6b9",
   "metadata": {},
   "outputs": [],
   "source": [
    "class Outpatient(Patient):\n",
    "    def __init__(self,patient_id,name,age,appoinment_date):\n",
    "        super().__init__(patient_id,name,age)\n",
    "        self.appoinment_date=appoinment_date\n",
    "\n",
    "    #method overriding\n",
    "    def show_info(self):\n",
    "        return f\"Patient[{self.patient_id}]-{self.name},Age:{self.age},date:{self.appoinment_date}\""
   ]
  },
  {
   "cell_type": "code",
   "execution_count": 142,
   "id": "99621a51-159d-45d0-bd7c-45dc40b3caf0",
   "metadata": {},
   "outputs": [],
   "source": [
    "p1 = Inpatient(101,\"Ross\",30,\"room-202\")"
   ]
  },
  {
   "cell_type": "code",
   "execution_count": 143,
   "id": "f99ea769-0deb-4c85-b458-9dc5f1ffa955",
   "metadata": {},
   "outputs": [],
   "source": [
    "p2=Outpatient(102,\"Phobe\",29,\"2025-07-26\")"
   ]
  },
  {
   "cell_type": "code",
   "execution_count": 144,
   "id": "136e1765-5fa6-447c-a964-dfecc5f26f38",
   "metadata": {},
   "outputs": [],
   "source": [
    "patient_list=[p1,p2]"
   ]
  },
  {
   "cell_type": "code",
   "execution_count": 145,
   "id": "8c9b9c3f-ae22-4916-a833-f475bc662df1",
   "metadata": {},
   "outputs": [
    {
     "name": "stdout",
     "output_type": "stream",
     "text": [
      "Patient[101]-Ross,Age:30,Room:room-202\n",
      "Patient[102]-Phobe,Age:29,date:2025-07-26\n"
     ]
    }
   ],
   "source": [
    "for p in patient_list:\n",
    "    print(p.show_info())"
   ]
  },
  {
   "cell_type": "code",
   "execution_count": null,
   "id": "19b36ebd-e271-4e22-9214-4e411316eda4",
   "metadata": {},
   "outputs": [],
   "source": []
  }
 ],
 "metadata": {
  "kernelspec": {
   "display_name": "Python 3 (ipykernel)",
   "language": "python",
   "name": "python3"
  },
  "language_info": {
   "codemirror_mode": {
    "name": "ipython",
    "version": 3
   },
   "file_extension": ".py",
   "mimetype": "text/x-python",
   "name": "python",
   "nbconvert_exporter": "python",
   "pygments_lexer": "ipython3",
   "version": "3.10.11"
  }
 },
 "nbformat": 4,
 "nbformat_minor": 5
}
