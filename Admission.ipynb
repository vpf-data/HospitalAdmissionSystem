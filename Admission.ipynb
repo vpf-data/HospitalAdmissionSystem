{
 "cells": [
  {
   "cell_type": "markdown",
   "id": "a39c93c2-7b39-4887-a3a9-7a5bd303c2ab",
   "metadata": {},
   "source": [
    "# Encapsulation"
   ]
  },
  {
   "cell_type": "markdown",
   "id": "8d14de0c-7f73-4920-9832-f66ae74b86f5",
   "metadata": {},
   "source": [
    "#### encapsulation means hiding the internal details of a class and controlling access through methods\n",
    "\n",
    "#### think of it as : \"Don't let anyone directly mess with a patient's confidentality data ; only allow controlled access."
   ]
  },
  {
   "cell_type": "markdown",
   "id": "599bb9a5-45e8-44dc-97c6-e38d6a9b7740",
   "metadata": {},
   "source": [
    "### Private attributes - \n",
    "\n",
    "### By convention\n",
    "\n",
    "### _attribute -> protected (internal use ,but still accessible if forced)\n",
    "### __attribute -> private (Python name-mangles it so it's harder to access directly)\n"
   ]
  },
  {
   "cell_type": "code",
   "execution_count": 88,
   "id": "b5f9e46a-a24e-4f70-a18f-7fd7db254483",
   "metadata": {},
   "outputs": [],
   "source": [
    "import uuid"
   ]
  },
  {
   "cell_type": "markdown",
   "id": "bce96c07-52aa-4a75-b5ad-59736d0278ba",
   "metadata": {},
   "source": [
    "## Getter and Setter methods \n",
    "\n",
    "#### We don't want outside code to directly change senstive info like patient_id . Instead we give controlled methods."
   ]
  },
  {
   "cell_type": "code",
   "execution_count": 96,
   "id": "e21098b0-3868-4b4a-9026-f90496871bfa",
   "metadata": {},
   "outputs": [],
   "source": [
    "class Patient:\n",
    "    def __init__(self,name,age,disease):\n",
    "        self.__patient_id=str(uuid.uuid4())\n",
    "        self.name =name\n",
    "        self.age=age\n",
    "        self.disease= disease\n",
    "\n",
    "    def get_patient_id(self):\n",
    "        return self.__patient_id\n",
    "    def update_disease(self,new_disease):\n",
    "        print(f\"Disease updated from {self.disease} to {new_disease}\")\n",
    "        self.disease=new_disease\n",
    "\n",
    "   #getter\n",
    "    def get_room_number(self):\n",
    "        return self.__room_number\n",
    "\n",
    "    #setter\n",
    "\n",
    "    def set_room_number(self,room_number):\n",
    "        if isinstance(room_number,int) and room_number >0:\n",
    "            self.__room_number = room_number\n",
    "        else:\n",
    "            print(\"Invalid room number\")\n",
    "    def show_info(self):\n",
    "        return f\"{self.get_patient_id()},{self.get_room_number()},{self.name},{self.age},{self.disease}\""
   ]
  },
  {
   "cell_type": "code",
   "execution_count": 97,
   "id": "049ee7da-f9dc-4832-8098-e31871f18fa6",
   "metadata": {},
   "outputs": [],
   "source": [
    "p1 = Patient(\"Joyce\",38,\"Flu\")"
   ]
  },
  {
   "cell_type": "code",
   "execution_count": 98,
   "id": "da1a72de-858d-4f9f-8166-ec00bd15f7e7",
   "metadata": {},
   "outputs": [
    {
     "name": "stdout",
     "output_type": "stream",
     "text": [
      "Patient ID: ce4b4199-9073-4b3f-9211-c96179ecc578\n"
     ]
    }
   ],
   "source": [
    "print(\"Patient ID:\",p1.get_patient_id())"
   ]
  },
  {
   "cell_type": "code",
   "execution_count": 99,
   "id": "5dcae781-d8c7-439c-8fc7-95277a2d8bcc",
   "metadata": {},
   "outputs": [
    {
     "name": "stdout",
     "output_type": "stream",
     "text": [
      "Disease updated from Flu to malaria\n"
     ]
    }
   ],
   "source": [
    "p1.update_disease(\"malaria\")"
   ]
  },
  {
   "cell_type": "code",
   "execution_count": 100,
   "id": "7ed9769e-960e-4bb2-a595-3c59796e0405",
   "metadata": {},
   "outputs": [
    {
     "name": "stdout",
     "output_type": "stream",
     "text": [
      "ce4b4199-9073-4b3f-9211-c96179ecc578 Joyce 38 malaria\n"
     ]
    }
   ],
   "source": [
    "print(p1.get_patient_id(),p1.name,p1.age,p1.disease)"
   ]
  },
  {
   "cell_type": "code",
   "execution_count": 104,
   "id": "4cc3f527-1816-4e01-b8e2-381c70021e14",
   "metadata": {},
   "outputs": [
    {
     "name": "stdout",
     "output_type": "stream",
     "text": [
      "ce4b4199-9073-4b3f-9211-c96179ecc578,102,Joyce,38,malaria\n"
     ]
    }
   ],
   "source": [
    "print(p1.show_info())"
   ]
  },
  {
   "cell_type": "code",
   "execution_count": null,
   "id": "e194f31b-22bc-4587-91a2-ca48f66862df",
   "metadata": {},
   "outputs": [],
   "source": [
    "class Hospital:\n",
    "    def __init__(self,name):\n",
    "        self.name=name\n",
    "        self.__patients=[] #private\n",
    "        self.__room_number=None #private\n",
    "\n",
    "    def admit(self,patient):\n",
    "        self.__patients.append(patient)\n",
    "\n",
    "    def list_patients(self):\n",
    "        for p in self.__patients:\n",
    "            print(p.show_info())\n",
    "            \n",
    "    def get_patient_count(self):\n",
    "        return len(self.__patients)\n",
    "        \n",
    "   \n",
    "    \n",
    "    \n",
    "        \n",
    "    "
   ]
  },
  {
   "cell_type": "code",
   "execution_count": 105,
   "id": "c4a4c39a-1d4f-4a2c-86a9-b96f92cd5ced",
   "metadata": {},
   "outputs": [],
   "source": [
    "p2=Patient(\"Chandler\",30,\"Sarcasm\")"
   ]
  },
  {
   "cell_type": "code",
   "execution_count": 106,
   "id": "49879125-108c-451f-a2a6-98e69dbc8bf7",
   "metadata": {},
   "outputs": [],
   "source": [
    "p2.set_room_number(101)"
   ]
  },
  {
   "cell_type": "code",
   "execution_count": null,
   "id": "7ff4950a-e8b6-4e17-abfc-bf68b94bda86",
   "metadata": {},
   "outputs": [],
   "source": [
    "print(\"Room:\",p2.get_room_number())"
   ]
  },
  {
   "cell_type": "code",
   "execution_count": null,
   "id": "1c3b6f09-8ef1-4c90-b01e-d95f5ff5fc3d",
   "metadata": {},
   "outputs": [],
   "source": [
    "h=Hospital(\"City Hospital\")"
   ]
  },
  {
   "cell_type": "code",
   "execution_count": null,
   "id": "3fa7f3fb-046a-40c2-a5c7-78da70700f44",
   "metadata": {},
   "outputs": [],
   "source": [
    "h.admit(p1)"
   ]
  },
  {
   "cell_type": "code",
   "execution_count": null,
   "id": "2af4b8e9-a420-40fd-bb5b-6c1fd287e410",
   "metadata": {},
   "outputs": [],
   "source": [
    "h.admit(p2)"
   ]
  },
  {
   "cell_type": "code",
   "execution_count": 102,
   "id": "ac7c554a-3351-471d-9017-a6e4f1f69c54",
   "metadata": {},
   "outputs": [],
   "source": [
    "p1.set_room_number(102)"
   ]
  },
  {
   "cell_type": "code",
   "execution_count": 103,
   "id": "0cb6cbfd-625b-446c-9f1f-af77b5dbd931",
   "metadata": {},
   "outputs": [
    {
     "data": {
      "text/plain": [
       "'ce4b4199-9073-4b3f-9211-c96179ecc578,102,Joyce,38,malaria'"
      ]
     },
     "execution_count": 103,
     "metadata": {},
     "output_type": "execute_result"
    }
   ],
   "source": [
    "p1.show_info()"
   ]
  },
  {
   "cell_type": "code",
   "execution_count": 107,
   "id": "2a47e233-8f2b-409e-95c7-203998f29ced",
   "metadata": {},
   "outputs": [
    {
     "data": {
      "text/plain": [
       "'7b85ca83-9472-4927-9028-4c15effdc128,101,Chandler,30,Sarcasm'"
      ]
     },
     "execution_count": 107,
     "metadata": {},
     "output_type": "execute_result"
    }
   ],
   "source": [
    "p2.show_info()"
   ]
  },
  {
   "cell_type": "code",
   "execution_count": null,
   "id": "c2de4ef7-17a7-4de7-8592-a866e3766b7e",
   "metadata": {},
   "outputs": [],
   "source": []
  }
 ],
 "metadata": {
  "kernelspec": {
   "display_name": "Python 3 (ipykernel)",
   "language": "python",
   "name": "python3"
  },
  "language_info": {
   "codemirror_mode": {
    "name": "ipython",
    "version": 3
   },
   "file_extension": ".py",
   "mimetype": "text/x-python",
   "name": "python",
   "nbconvert_exporter": "python",
   "pygments_lexer": "ipython3",
   "version": "3.10.11"
  }
 },
 "nbformat": 4,
 "nbformat_minor": 5
}
