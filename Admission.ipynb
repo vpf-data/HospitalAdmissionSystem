{
 "cells": [
  {
   "cell_type": "markdown",
   "id": "034f247a-d967-409c-a091-fca286fd5437",
   "metadata": {},
   "source": [
    "# Hospital Admission project with OOPs concept"
   ]
  },
  {
   "cell_type": "markdown",
   "id": "16bfce5e-3714-4321-990a-05fe4ca2c6cd",
   "metadata": {},
   "source": [
    "### class - Blueprint(Like a hospital admission form)\n",
    "### object - Instance created from class (a filled admission form from a patient)"
   ]
  },
  {
   "cell_type": "code",
   "execution_count": 16,
   "id": "6a882601-30f4-48f9-b850-0cbfb2cd94f3",
   "metadata": {},
   "outputs": [],
   "source": [
    "class Patient:\n",
    "    def __init__(self,name,age,disease):\n",
    "        self.name=name\n",
    "        self.age=age\n",
    "        self.disease=disease\n",
    "\n",
    "    def show_info(self):\n",
    "        return f\"{self.name},{self.age},{self.disease}\"\n",
    "        "
   ]
  },
  {
   "cell_type": "code",
   "execution_count": 17,
   "id": "2e23e705-2967-41eb-b054-0533b968d4d5",
   "metadata": {},
   "outputs": [],
   "source": [
    "p1 = Patient(\"Denver\",20,\"fever\")"
   ]
  },
  {
   "cell_type": "code",
   "execution_count": 18,
   "id": "337b3a7a-9dcb-4b98-a313-2891282f4883",
   "metadata": {},
   "outputs": [
    {
     "name": "stdout",
     "output_type": "stream",
     "text": [
      "Denver 20 fever\n"
     ]
    }
   ],
   "source": [
    "print(p1.name,p1.age,p1.disease)"
   ]
  },
  {
   "cell_type": "code",
   "execution_count": 19,
   "id": "ce847ba2-b303-40d5-997d-6ed6c5033472",
   "metadata": {},
   "outputs": [
    {
     "name": "stdout",
     "output_type": "stream",
     "text": [
      "Denver,20,fever\n"
     ]
    }
   ],
   "source": [
    "print(p1.show_info())"
   ]
  },
  {
   "cell_type": "code",
   "execution_count": 20,
   "id": "807586a1-0b9f-4262-9fb7-c80404708b7e",
   "metadata": {},
   "outputs": [],
   "source": [
    "class Hospital:\n",
    "    def __init__(self,name):\n",
    "        self.name = name\n",
    "        self.patients =[]\n",
    "\n",
    "    def admit(self,patient):\n",
    "        self.patients.append(patient)\n",
    "\n",
    "    def list_patients(self):\n",
    "        for p in self.patients:\n",
    "            print(p.show_info())"
   ]
  },
  {
   "cell_type": "code",
   "execution_count": 21,
   "id": "d39096dd-6cc3-4d38-9e21-1fad72a7961d",
   "metadata": {},
   "outputs": [],
   "source": [
    "h = Hospital(\"city Hospital\")"
   ]
  },
  {
   "cell_type": "code",
   "execution_count": 22,
   "id": "2b68e6e9-4959-4b0e-bf1e-579477c44bc0",
   "metadata": {},
   "outputs": [],
   "source": [
    "h.admit(p1)"
   ]
  },
  {
   "cell_type": "code",
   "execution_count": 23,
   "id": "6228b02f-7968-4574-8e2e-bf060341299c",
   "metadata": {},
   "outputs": [
    {
     "name": "stdout",
     "output_type": "stream",
     "text": [
      "Denver,20,fever\n"
     ]
    }
   ],
   "source": [
    "h.list_patients()"
   ]
  },
  {
   "cell_type": "code",
   "execution_count": 24,
   "id": "2010ebb7-247b-45fa-87f0-baa6ee036fdc",
   "metadata": {},
   "outputs": [],
   "source": [
    "p2 = Patient(\"Gouri\",14,\"headache\")"
   ]
  },
  {
   "cell_type": "code",
   "execution_count": 25,
   "id": "4193d08d-7e4b-4145-ab6d-0e00de1d22eb",
   "metadata": {},
   "outputs": [],
   "source": [
    "p3= Patient(\"Rachel\",32,\"Fracture\")"
   ]
  },
  {
   "cell_type": "code",
   "execution_count": 26,
   "id": "32625d41-f621-42cc-952a-687f4f7f000e",
   "metadata": {},
   "outputs": [],
   "source": [
    "p4=Patient(\"Joey\",30,\"Stomach Pain\")"
   ]
  },
  {
   "cell_type": "code",
   "execution_count": 27,
   "id": "c4845fb9-22f0-4fca-a558-a7d1c687bdd0",
   "metadata": {},
   "outputs": [],
   "source": [
    "h.admit(p2)"
   ]
  },
  {
   "cell_type": "code",
   "execution_count": 28,
   "id": "2f8522d0-6192-4203-be9d-986cb56be6a0",
   "metadata": {},
   "outputs": [],
   "source": [
    "h.admit(p3)"
   ]
  },
  {
   "cell_type": "code",
   "execution_count": 29,
   "id": "46e425fd-8940-4972-b39f-22440e3cbfdd",
   "metadata": {},
   "outputs": [],
   "source": [
    "h.admit(p4)"
   ]
  },
  {
   "cell_type": "code",
   "execution_count": 30,
   "id": "76c084a7-aa1c-4b8c-9f22-34f63904e46a",
   "metadata": {},
   "outputs": [
    {
     "name": "stdout",
     "output_type": "stream",
     "text": [
      "Denver,20,fever\n",
      "Gouri,14,headache\n",
      "Rachel,32,Fracture\n",
      "Joey,30,Stomach Pain\n"
     ]
    }
   ],
   "source": [
    "h.list_patients()"
   ]
  },
  {
   "cell_type": "code",
   "execution_count": null,
   "id": "1212e0b9-6c03-4e86-ab26-88cb6ca935d8",
   "metadata": {},
   "outputs": [],
   "source": []
  }
 ],
 "metadata": {
  "kernelspec": {
   "display_name": "Python 3 (ipykernel)",
   "language": "python",
   "name": "python3"
  },
  "language_info": {
   "codemirror_mode": {
    "name": "ipython",
    "version": 3
   },
   "file_extension": ".py",
   "mimetype": "text/x-python",
   "name": "python",
   "nbconvert_exporter": "python",
   "pygments_lexer": "ipython3",
   "version": "3.10.11"
  }
 },
 "nbformat": 4,
 "nbformat_minor": 5
}
