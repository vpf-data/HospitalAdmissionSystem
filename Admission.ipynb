{
 "cells": [
  {
   "cell_type": "markdown",
   "id": "a39c93c2-7b39-4887-a3a9-7a5bd303c2ab",
   "metadata": {},
   "source": [
    "# Abstraction"
   ]
  },
  {
   "cell_type": "code",
   "execution_count": 146,
   "id": "17118c73-65b6-40ee-806d-bc19ff3c3281",
   "metadata": {},
   "outputs": [],
   "source": [
    "from abc import ABC,abstractmethod"
   ]
  },
  {
   "cell_type": "code",
   "execution_count": 147,
   "id": "65bfae25-5ff8-4f29-8489-97265c71f3a1",
   "metadata": {},
   "outputs": [],
   "source": [
    "# Abstract class"
   ]
  },
  {
   "cell_type": "code",
   "execution_count": 176,
   "id": "0b69df8e-5dad-4e19-8398-4408e99e7bd5",
   "metadata": {},
   "outputs": [],
   "source": [
    "class Staff(ABC):\n",
    "    def __init__(self,name,role):\n",
    "        self.name=name\n",
    "        self.role=role\n",
    "\n",
    "    @abstractmethod\n",
    "\n",
    "    def perform_duty(self,patient):\n",
    "        \"\"\" Abstract method - must be implemented by subclasses\"\"\"\n",
    "        pass\n",
    "        "
   ]
  },
  {
   "cell_type": "code",
   "execution_count": 166,
   "id": "ea137f03-85a5-4a16-808e-0b4af8f7410b",
   "metadata": {},
   "outputs": [],
   "source": [
    "#concrete subclasses"
   ]
  },
  {
   "cell_type": "code",
   "execution_count": 177,
   "id": "f5c768d1-4aa9-47f8-b367-a3f1388555bf",
   "metadata": {},
   "outputs": [],
   "source": [
    "class Doctor(Staff):\n",
    "    def __init__(self,name,specilization):\n",
    "        super().__init__(name,role=\"Doctor\")\n",
    "        self.specilization=specilization\n",
    "\n",
    "    def perform_duty(self,patient):\n",
    "        return f\"Dr.{self.name} ({self.specilization}) is diagnozing {patient.name}\"\n",
    "\n",
    "        "
   ]
  },
  {
   "cell_type": "code",
   "execution_count": 178,
   "id": "5d940024-489e-404c-ad47-49c8766ff6fb",
   "metadata": {},
   "outputs": [],
   "source": [
    "class Nurse(Staff):\n",
    "    def __init__(self,name):\n",
    "        super().__init__(name,role=\"Nurse\")\n",
    "\n",
    "    def perform_duty(self,patient):\n",
    "        return f\"Nurse {self.name} is giving medication to {patient.name}\"\n",
    "\n",
    "        "
   ]
  },
  {
   "cell_type": "code",
   "execution_count": 189,
   "id": "8ac5d27f-d767-4a80-8e1a-258fc0c55ac8",
   "metadata": {},
   "outputs": [],
   "source": [
    "class Therapist(Staff):\n",
    "    def __init__(self,name):\n",
    "        super().__init__(name,role=\"Therapist\")\n",
    "\n",
    "    def perform_duty(self,patient):\n",
    "        return f\"Therapist {self.name} is performing therapy to {patient.name}\""
   ]
  },
  {
   "cell_type": "code",
   "execution_count": 184,
   "id": "79164881-dbeb-46dd-8988-f40a2d7ced89",
   "metadata": {},
   "outputs": [],
   "source": [
    "class Patient:\n",
    "    def __init__(self,name,age):\n",
    "        self.name=name\n",
    "        self.age=age\n",
    "        "
   ]
  },
  {
   "cell_type": "code",
   "execution_count": null,
   "id": "6c10caeb-09a0-4242-8340-fbe6c524acc5",
   "metadata": {},
   "outputs": [],
   "source": []
  },
  {
   "cell_type": "code",
   "execution_count": 190,
   "id": "e5b121a9-0b2b-4d1d-af47-69143ce932cf",
   "metadata": {},
   "outputs": [],
   "source": [
    "if __name__==\"__main__\":\n",
    "    p1=Patient(\"Rachel\",30)\n",
    "\n",
    "    staff_list=[\n",
    "    Doctor(\"John\",\"cardiology\"),\n",
    "    Nurse(\"Emma\"),\n",
    "    Therapist(\"Sophia\")\n",
    "    ]"
   ]
  },
  {
   "cell_type": "code",
   "execution_count": 191,
   "id": "d02722fc-a057-417d-af40-96ff33a39a28",
   "metadata": {},
   "outputs": [
    {
     "name": "stdout",
     "output_type": "stream",
     "text": [
      "Dr.John (cardiology) is diagnozing Rachel\n",
      "Nurse Emma is giving medication to Rachel\n",
      "Therapist Sophia is performing therapy to Rachel\n"
     ]
    }
   ],
   "source": [
    "for staff in staff_list:\n",
    "    print(staff.perform_duty(p1))"
   ]
  },
  {
   "cell_type": "code",
   "execution_count": null,
   "id": "262cfd64-11ba-47e0-9c29-af71c5ba1ba7",
   "metadata": {},
   "outputs": [],
   "source": []
  }
 ],
 "metadata": {
  "kernelspec": {
   "display_name": "Python 3 (ipykernel)",
   "language": "python",
   "name": "python3"
  },
  "language_info": {
   "codemirror_mode": {
    "name": "ipython",
    "version": 3
   },
   "file_extension": ".py",
   "mimetype": "text/x-python",
   "name": "python",
   "nbconvert_exporter": "python",
   "pygments_lexer": "ipython3",
   "version": "3.10.11"
  }
 },
 "nbformat": 4,
 "nbformat_minor": 5
}
