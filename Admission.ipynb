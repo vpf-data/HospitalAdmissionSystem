{
 "cells": [
  {
   "cell_type": "markdown",
   "id": "a39c93c2-7b39-4887-a3a9-7a5bd303c2ab",
   "metadata": {},
   "source": [
    "# Inheritance"
   ]
  },
  {
   "cell_type": "markdown",
   "id": "7f618a4f-70fd-45d7-a358-7f3ca552886e",
   "metadata": {},
   "source": [
    "### Main - Patient Class , SubClasses - InPatient ,OutPatient"
   ]
  },
  {
   "cell_type": "code",
   "execution_count": 119,
   "id": "0a02cd2b-9562-4aed-a40a-361fe58418cd",
   "metadata": {},
   "outputs": [],
   "source": [
    "class Patient:\n",
    "    def __init__(self,name,age,patient_id):\n",
    "        self.name = name\n",
    "        self.age=age\n",
    "        self.__patient_id=patient_id # private(name_mangled)\n",
    "\n",
    "    def show_info(self):\n",
    "        print(f\"Name:{self.name},Age:{self.age},ID:{self.__patient_id}\")\n",
    "\n",
    "    def get_id(self):\n",
    "        return self.__patient_id\n",
    "    "
   ]
  },
  {
   "cell_type": "code",
   "execution_count": 124,
   "id": "79855e22-5195-4984-a502-1a158e1f0778",
   "metadata": {},
   "outputs": [],
   "source": [
    "class Inpatient(Patient):\n",
    "    def __init__(self,name,age,patient_id,room_number,days_admitted):\n",
    "        super().__init__(name,age,patient_id) # calling parent constructor\n",
    "        self.room_number =room_number\n",
    "        self.days_admitted =days_admitted\n",
    "\n",
    "    def show_info(self):\n",
    "        super().show_info()\n",
    "        print(f\"Room:{self.room_number},Days Admitted:{self.days_admitted}\")"
   ]
  },
  {
   "cell_type": "code",
   "execution_count": 121,
   "id": "2cff1213-ff75-45e1-84c2-8ad48ff226fb",
   "metadata": {},
   "outputs": [],
   "source": [
    "class Outpatient(Patient):\n",
    "    def __init__(self,name,age,patient_id,appoinment_date,doctor):\n",
    "        super().__init__(name,age,patient_id)\n",
    "        self.appoinment_date=appoinment_date\n",
    "        self.doctor=doctor\n",
    "        \n",
    "    def show_info(self):\n",
    "        super().show_info()\n",
    "        print(f\"Appoinment date: {self.appoinment_date},Doctor:{self.doctor}\")\n",
    "        "
   ]
  },
  {
   "cell_type": "code",
   "execution_count": 125,
   "id": "731eb944-d5fc-4269-b5c4-ab7c654d90d0",
   "metadata": {},
   "outputs": [],
   "source": [
    "p1=Inpatient(\"Monica\",29,1001,203,5)"
   ]
  },
  {
   "cell_type": "code",
   "execution_count": 126,
   "id": "29ecd997-a218-4810-96ab-ebeb205e207c",
   "metadata": {},
   "outputs": [
    {
     "name": "stdout",
     "output_type": "stream",
     "text": [
      "Name:Monica,Age:29,ID:1001\n",
      "Room:203,Days Admitted:5\n"
     ]
    }
   ],
   "source": [
    "p1.show_info()"
   ]
  },
  {
   "cell_type": "code",
   "execution_count": 127,
   "id": "8fa75df4-a2b0-41c1-8cf8-0a93b974391a",
   "metadata": {},
   "outputs": [],
   "source": [
    "p2=Outpatient(\"Chandler\",30,1002,\"2025-02-01\",\"Joey\")"
   ]
  },
  {
   "cell_type": "code",
   "execution_count": 128,
   "id": "3d632f93-e5d5-4e62-a0ac-bba798fc16ab",
   "metadata": {},
   "outputs": [
    {
     "name": "stdout",
     "output_type": "stream",
     "text": [
      "Name:Chandler,Age:30,ID:1002\n",
      "Appoinment date: 2025-02-01,Doctor:Joey\n"
     ]
    }
   ],
   "source": [
    "p2.show_info()"
   ]
  },
  {
   "cell_type": "code",
   "execution_count": null,
   "id": "73d6ff95-63f3-4830-b7b8-a42a9cd0eda9",
   "metadata": {},
   "outputs": [],
   "source": []
  }
 ],
 "metadata": {
  "kernelspec": {
   "display_name": "Python 3 (ipykernel)",
   "language": "python",
   "name": "python3"
  },
  "language_info": {
   "codemirror_mode": {
    "name": "ipython",
    "version": 3
   },
   "file_extension": ".py",
   "mimetype": "text/x-python",
   "name": "python",
   "nbconvert_exporter": "python",
   "pygments_lexer": "ipython3",
   "version": "3.10.11"
  }
 },
 "nbformat": 4,
 "nbformat_minor": 5
}
